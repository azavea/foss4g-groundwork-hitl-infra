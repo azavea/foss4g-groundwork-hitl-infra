{
 "cells": [
  {
   "cell_type": "code",
   "execution_count": null,
   "metadata": {},
   "outputs": [],
   "source": [
    "%pip install shapely seedir"
   ]
  },
  {
   "cell_type": "code",
   "execution_count": null,
   "metadata": {},
   "outputs": [],
   "source": [
    "import json\n",
    "from pprint import pformat\n",
    "from copy import deepcopy\n",
    "from tempfile import TemporaryDirectory\n",
    "\n",
    "from rastervision.pytorch_backend.examples.utils import read_stac\n",
    "from rastervision.pipeline.file_system import unzip\n",
    "\n",
    "%matplotlib inline\n",
    "import numpy as np\n",
    "from matplotlib import pyplot as plt\n",
    "from matplotlib.patches import Patch, Polygon as MPolygon\n",
    "from shapely.geometry import shape, MultiPolygon, Polygon\n",
    "from shapely.ops import unary_union\n",
    "import seedir as sd"
   ]
  },
  {
   "cell_type": "code",
   "execution_count": null,
   "metadata": {},
   "outputs": [],
   "source": [
    "stac_export_uri = 'stac-export.zip'"
   ]
  },
  {
   "cell_type": "markdown",
   "metadata": {
    "tags": []
   },
   "source": [
    "# STAC export structure"
   ]
  },
  {
   "cell_type": "code",
   "execution_count": null,
   "metadata": {},
   "outputs": [],
   "source": [
    "def preview_zipfile(path):\n",
    "    with TemporaryDirectory() as tmp_dir:\n",
    "        unzip(path, target_dir=tmp_dir)\n",
    "        s = sd.seedir(path=tmp_dir, style='lines', indent=4, first='files', printout=False)\n",
    "        root = s.split('\\n')[0]\n",
    "        s = s.replace(root, f'{path}/')\n",
    "        print(s)"
   ]
  },
  {
   "cell_type": "code",
   "execution_count": null,
   "metadata": {},
   "outputs": [],
   "source": [
    "preview_zipfile(stac_export_uri)"
   ]
  },
  {
   "cell_type": "markdown",
   "metadata": {
    "tags": []
   },
   "source": [
    "# STAC catalog contents"
   ]
  },
  {
   "cell_type": "code",
   "execution_count": null,
   "metadata": {},
   "outputs": [],
   "source": [
    "def show_parsed_stac(project_infos):\n",
    "    project_infos = deepcopy(project_infos)\n",
    "    for info in project_infos:\n",
    "        g = shape(info['aoi_geometry'])\n",
    "        info['aoi_geometry']['coordinates'] = '[[...]]'\n",
    "        info['image_bbox'] = info['image_bbox'].bounds\n",
    "        info['label_bbox'] = info['label_bbox'].bounds\n",
    "    print(pformat(project_infos))"
   ]
  },
  {
   "cell_type": "markdown",
   "metadata": {},
   "source": [
    "`read_stac()` is a util function from Raster Vision that returns a dict for each project in the STAC export."
   ]
  },
  {
   "cell_type": "code",
   "execution_count": null,
   "metadata": {},
   "outputs": [],
   "source": [
    "project_infos = read_stac(stac_export_uri, './tmp/inspect')"
   ]
  },
  {
   "cell_type": "markdown",
   "metadata": {},
   "source": [
    "Pretty print the output of `read_stac()`:"
   ]
  },
  {
   "cell_type": "code",
   "execution_count": null,
   "metadata": {},
   "outputs": [],
   "source": [
    "show_parsed_stac(project_infos)"
   ]
  },
  {
   "cell_type": "markdown",
   "metadata": {},
   "source": [
    "# Labels and AOI"
   ]
  },
  {
   "cell_type": "markdown",
   "metadata": {},
   "source": [
    "As a sanity check, we can visualize the labels that we will actually be feeding into Raster Vision for training."
   ]
  },
  {
   "cell_type": "code",
   "execution_count": null,
   "metadata": {},
   "outputs": [],
   "source": [
    "def geojson_to_shape(path):\n",
    "    with open(path, 'r') as f:\n",
    "        features = json.load(f)['features']\n",
    "    polygons = [shape(f['geometry']) for f in features]\n",
    "    polygons = unary_union(polygons)\n",
    "    return polygons"
   ]
  },
  {
   "cell_type": "code",
   "execution_count": null,
   "metadata": {},
   "outputs": [],
   "source": [
    "def show_labels_combined(infos):\n",
    "    fig = plt.figure(figsize=(16, 24))\n",
    "    ax = plt.gca()\n",
    "    extent = Polygon.from_bounds(*unary_union([infos[0]['label_bbox'], infos[1]['label_bbox']]).bounds)\n",
    "    ax.add_patch(MPolygon(np.array(extent.exterior), fill=None, hatch='/', alpha=.5))\n",
    "    for info in infos:\n",
    "        aoi_polygons = MultiPolygon(shape(info['aoi_geometry']))\n",
    "        label_polygons = MultiPolygon(geojson_to_shape(info['label_uri']))\n",
    "        for p in aoi_polygons:\n",
    "            ax.add_patch(MPolygon(np.array(p.exterior), fc='white', ec='#777'))\n",
    "        for p in label_polygons:\n",
    "            ax.add_patch(MPolygon(np.array(p.exterior), fc='r', ec='r'))\n",
    "    plt.axis('off')\n",
    "    plt.autoscale()\n",
    "    legend_patches = [\n",
    "        Patch(fc='w', ec='k', hatch='/', alpha=.5, label='Unlabeled region'),\n",
    "        Patch(fc='w', ec='#777', alpha=1, label='Labeled region'),\n",
    "        Patch(color='r', alpha=1, label='Boat'),\n",
    "    ]\n",
    "    plt.legend(handles=legend_patches, loc='upper center', bbox_to_anchor=(.5, .985), fontsize='xx-large', frameon=False, ncol=3)\n",
    "    fig.tight_layout(pad=0)\n",
    "    plt.show()"
   ]
  },
  {
   "cell_type": "code",
   "execution_count": null,
   "metadata": {},
   "outputs": [],
   "source": [
    "show_labels_combined(project_infos)"
   ]
  }
 ],
 "metadata": {
  "kernelspec": {
   "display_name": "Python 3.7.9 64-bit ('base': conda)",
   "language": "python",
   "name": "python37964bitbaseconda1f87cf499c9842d2bb8d55e1f9beba59"
  },
  "language_info": {
   "codemirror_mode": {
    "name": "ipython",
    "version": 3
   },
   "file_extension": ".py",
   "mimetype": "text/x-python",
   "name": "python",
   "nbconvert_exporter": "python",
   "pygments_lexer": "ipython3",
   "version": "3.7.9"
  }
 },
 "nbformat": 4,
 "nbformat_minor": 4
}
